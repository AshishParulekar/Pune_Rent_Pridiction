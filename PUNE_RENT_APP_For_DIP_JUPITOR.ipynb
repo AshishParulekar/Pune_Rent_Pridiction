{
 "cells": [
  {
   "cell_type": "code",
   "execution_count": null,
   "id": "9de47189",
   "metadata": {},
   "outputs": [],
   "source": [
    "import pandas as pd \n",
    "import warnings\n",
    "warnings.filterwarnings('ignore')\n",
    "import seaborn as sns\n",
    "import matplotlib.pyplot as plt\n",
    "from sklearn.preprocessing import OneHotEncoder,LabelEncoder\n"
   ]
  },
  {
   "cell_type": "code",
   "execution_count": null,
   "id": "01a1e8ca",
   "metadata": {},
   "outputs": [],
   "source": [
    "Data=pd.read_csv('Pune_rent.csv')"
   ]
  },
  {
   "cell_type": "code",
   "execution_count": null,
   "id": "69df357a",
   "metadata": {},
   "outputs": [],
   "source": [
    "Data.shape"
   ]
  },
  {
   "cell_type": "code",
   "execution_count": null,
   "id": "a40cf33a",
   "metadata": {},
   "outputs": [],
   "source": [
    "Data.info()"
   ]
  },
  {
   "cell_type": "code",
   "execution_count": null,
   "id": "1be51180",
   "metadata": {},
   "outputs": [],
   "source": [
    "Data_new=Data.drop_duplicates()"
   ]
  },
  {
   "cell_type": "code",
   "execution_count": null,
   "id": "dbaf75b3",
   "metadata": {},
   "outputs": [],
   "source": [
    "Data_new.shape"
   ]
  },
  {
   "cell_type": "code",
   "execution_count": null,
   "id": "6152e653",
   "metadata": {},
   "outputs": [],
   "source": [
    "Data_new.isnull().sum()"
   ]
  },
  {
   "cell_type": "code",
   "execution_count": null,
   "id": "8cd2c457",
   "metadata": {},
   "outputs": [],
   "source": [
    "Data_new.dropna()"
   ]
  },
  {
   "cell_type": "code",
   "execution_count": null,
   "id": "0903ae51",
   "metadata": {},
   "outputs": [],
   "source": [
    "Data_new.isnull().sum()"
   ]
  },
  {
   "cell_type": "code",
   "execution_count": null,
   "id": "ac3c3597",
   "metadata": {},
   "outputs": [],
   "source": [
    "Data_new.shape"
   ]
  },
  {
   "cell_type": "code",
   "execution_count": null,
   "id": "d1a28aef",
   "metadata": {},
   "outputs": [],
   "source": [
    "Data_new.reset_index(inplace=True)"
   ]
  },
  {
   "cell_type": "code",
   "execution_count": null,
   "id": "3defa873",
   "metadata": {},
   "outputs": [],
   "source": [
    "for i in Data_new:\n",
    "    print(Data_new[i].value_counts())"
   ]
  },
  {
   "cell_type": "code",
   "execution_count": null,
   "id": "6e7c5906",
   "metadata": {},
   "outputs": [],
   "source": [
    "\n",
    "inde=set( )\n",
    "y=['East facing','West facing','Grfloor','North facing','1 of 2floor','NorthEast facing','11 of 11floor','1 of 3floor']\n",
    "for i in range(len(Data_new['bathroom'])):\n",
    "    x=Data_new['bathroom'].iloc[i]\n",
    "    if (x in y ):\n",
    "        #print(x)\n",
    "        #print(i)\n",
    "        inde.add(i)        \n",
    "inde=list(inde)\n",
    "len(inde)\n",
    "\n",
    "            \n",
    "            \n",
    "        \n",
    "                   \n"
   ]
  },
  {
   "cell_type": "code",
   "execution_count": null,
   "id": "f6d17594",
   "metadata": {},
   "outputs": [],
   "source": [
    "Data_new.drop(inde,axis=0,inplace=True)"
   ]
  },
  {
   "cell_type": "code",
   "execution_count": null,
   "id": "2358f4f1",
   "metadata": {},
   "outputs": [],
   "source": [
    "Data_new.shape"
   ]
  },
  {
   "cell_type": "code",
   "execution_count": null,
   "id": "ba7b2d83",
   "metadata": {},
   "outputs": [],
   "source": [
    "Data_new['bathroom'].value_counts()"
   ]
  },
  {
   "cell_type": "code",
   "execution_count": null,
   "id": "6dda9d2b",
   "metadata": {},
   "outputs": [],
   "source": [
    "Data_new.isnull().sum()"
   ]
  },
  {
   "cell_type": "code",
   "execution_count": null,
   "id": "455dd198",
   "metadata": {},
   "outputs": [],
   "source": [
    "Data_new.dropna(inplace=True)"
   ]
  },
  {
   "cell_type": "code",
   "execution_count": null,
   "id": "424a30ad",
   "metadata": {},
   "outputs": [],
   "source": [
    "print(Data_new.isnull().sum())\n",
    "print(Data_new.shape)\n"
   ]
  },
  {
   "cell_type": "code",
   "execution_count": null,
   "id": "42beef4d",
   "metadata": {},
   "outputs": [],
   "source": [
    "Data_new.columns"
   ]
  },
  {
   "cell_type": "markdown",
   "id": "6fd90648",
   "metadata": {},
   "source": [
    "# Outlier"
   ]
  },
  {
   "cell_type": "code",
   "execution_count": null,
   "id": "7cac7589",
   "metadata": {},
   "outputs": [],
   "source": [
    "lit=[]\n",
    "for i in (Data_new['price']):\n",
    "    if (','in i):\n",
    "        l=i.split(',')\n",
    "        L=l[0]+l[1]\n",
    "        lit.append(float(L))\n",
    "    else:\n",
    "        lit.append(float(i))\n"
   ]
  },
  {
   "cell_type": "code",
   "execution_count": null,
   "id": "4abfc688",
   "metadata": {},
   "outputs": [],
   "source": [
    "len(lit)"
   ]
  },
  {
   "cell_type": "code",
   "execution_count": null,
   "id": "7b25f912",
   "metadata": {},
   "outputs": [],
   "source": [
    "Data_new"
   ]
  },
  {
   "cell_type": "code",
   "execution_count": null,
   "id": "583814d1",
   "metadata": {},
   "outputs": [],
   "source": [
    "Data_new['price']=lit"
   ]
  },
  {
   "cell_type": "code",
   "execution_count": null,
   "id": "161fade0",
   "metadata": {},
   "outputs": [],
   "source": [
    "Data_new.isnull().any()"
   ]
  },
  {
   "cell_type": "code",
   "execution_count": null,
   "id": "cac9ac4b",
   "metadata": {},
   "outputs": [],
   "source": [
    "outlier=Data_new[Data_new['price']<33000]"
   ]
  },
  {
   "cell_type": "code",
   "execution_count": null,
   "id": "f1dc7a50",
   "metadata": {},
   "outputs": [],
   "source": [
    "sns.boxplot(outlier['price'])"
   ]
  },
  {
   "cell_type": "code",
   "execution_count": null,
   "id": "5e4dad77",
   "metadata": {},
   "outputs": [],
   "source": [
    "outlier.shape"
   ]
  },
  {
   "cell_type": "code",
   "execution_count": null,
   "id": "0d0f0254",
   "metadata": {},
   "outputs": [],
   "source": [
    "Outlier_percentage=((Data_new.shape[0]-outlier.shape[0])/Data_new.shape[0]*100)\n",
    "Outlier_percentage"
   ]
  },
  {
   "cell_type": "code",
   "execution_count": null,
   "id": "73c2cac6",
   "metadata": {},
   "outputs": [],
   "source": [
    "outlier.head(1)"
   ]
  },
  {
   "cell_type": "code",
   "execution_count": null,
   "id": "29b252e7",
   "metadata": {},
   "outputs": [],
   "source": [
    "outlier.drop('index',axis=1,inplace=True)"
   ]
  },
  {
   "cell_type": "code",
   "execution_count": null,
   "id": "667438ac",
   "metadata": {},
   "outputs": [],
   "source": [
    "outlier.isnull().sum()"
   ]
  },
  {
   "cell_type": "code",
   "execution_count": null,
   "id": "05ea25bb",
   "metadata": {},
   "outputs": [],
   "source": [
    "outlier.shape"
   ]
  },
  {
   "cell_type": "code",
   "execution_count": null,
   "id": "136e5008",
   "metadata": {},
   "outputs": [],
   "source": [
    "print(outlier['seller_type'].value_counts())\n",
    "print(outlier['bedroom'].value_counts())\n",
    "print(outlier['layout_type'].value_counts())\n",
    "print(outlier['property_type'].value_counts())"
   ]
  },
  {
   "cell_type": "markdown",
   "id": "40d20b48",
   "metadata": {},
   "source": [
    "# Encoding_technique"
   ]
  },
  {
   "cell_type": "code",
   "execution_count": null,
   "id": "f7eeb009",
   "metadata": {},
   "outputs": [],
   "source": [
    "outlier.head(2)"
   ]
  },
  {
   "cell_type": "code",
   "execution_count": null,
   "id": "508e3931",
   "metadata": {},
   "outputs": [],
   "source": [
    "ONE=outlier.drop(['price','area'],axis=1)"
   ]
  },
  {
   "cell_type": "code",
   "execution_count": null,
   "id": "3d36bff0",
   "metadata": {},
   "outputs": [],
   "source": [
    "ONE=pd.get_dummies(ONE,drop_first=True)"
   ]
  },
  {
   "cell_type": "code",
   "execution_count": null,
   "id": "8e18bfce",
   "metadata": {},
   "outputs": [],
   "source": [
    "ONE.shape"
   ]
  },
  {
   "cell_type": "code",
   "execution_count": null,
   "id": "84bd3541",
   "metadata": {},
   "outputs": [],
   "source": [
    "ONE.reset_index(inplace=True,drop=True)\n",
    "ONE\n",
    "ONE.isnull().sum()"
   ]
  },
  {
   "cell_type": "code",
   "execution_count": null,
   "id": "e1f10c83",
   "metadata": {},
   "outputs": [],
   "source": [
    "outlier.isnull().sum()"
   ]
  },
  {
   "cell_type": "code",
   "execution_count": null,
   "id": "2e6e2e40",
   "metadata": {},
   "outputs": [],
   "source": [
    "#L=LabelEncoder()\n",
    "#La=L.fit_transform(Label)\n",
    "#La=pd.DataFrame(La,columns=['Locality'])\n",
    "#La.reset_index(inplace=True,drop=True)\n",
    "#print(La.isnull().sum())\n",
    "#La"
   ]
  },
  {
   "cell_type": "code",
   "execution_count": null,
   "id": "036d879b",
   "metadata": {},
   "outputs": [],
   "source": [
    "value=outlier['area']\n",
    "value.reset_index(drop=True,inplace=True)\n",
    "value.shape"
   ]
  },
  {
   "cell_type": "code",
   "execution_count": null,
   "id": "030b5362",
   "metadata": {
    "scrolled": false
   },
   "outputs": [],
   "source": [
    "x=pd.concat([value,ONE],axis=1)\n",
    "x.reset_index(drop=True,inplace=True)\n",
    "x\n"
   ]
  },
  {
   "cell_type": "code",
   "execution_count": null,
   "id": "61ca3e46",
   "metadata": {},
   "outputs": [],
   "source": [
    "x.isnull().sum()"
   ]
  },
  {
   "cell_type": "code",
   "execution_count": null,
   "id": "02193434",
   "metadata": {},
   "outputs": [],
   "source": [
    "y=outlier['price']\n",
    "y.reset_index(drop=True)"
   ]
  },
  {
   "cell_type": "markdown",
   "id": "d00f5e5c",
   "metadata": {},
   "source": [
    "# Feature_selection"
   ]
  },
  {
   "cell_type": "code",
   "execution_count": null,
   "id": "564b925a",
   "metadata": {},
   "outputs": [],
   "source": [
    "x.corr()\n",
    "plt.figure(figsize=(10,8))\n",
    "sns.heatmap(x.corr())"
   ]
  },
  {
   "cell_type": "code",
   "execution_count": null,
   "id": "310ba982",
   "metadata": {},
   "outputs": [],
   "source": [
    "from sklearn.model_selection import train_test_split"
   ]
  },
  {
   "cell_type": "code",
   "execution_count": null,
   "id": "088e3213",
   "metadata": {},
   "outputs": [],
   "source": [
    "print(x.shape)\n",
    "print(y.shape)"
   ]
  },
  {
   "cell_type": "code",
   "execution_count": null,
   "id": "5a93432a",
   "metadata": {},
   "outputs": [],
   "source": [
    "x_train_s,x_test_shuffle,y_train,y_test_shuffle=train_test_split(x,y,test_size=10)"
   ]
  },
  {
   "cell_type": "code",
   "execution_count": null,
   "id": "f80ab002",
   "metadata": {},
   "outputs": [],
   "source": [
    "x_train,x_test,y_train,y_test=train_test_split(x,y,train_size=70)"
   ]
  },
  {
   "cell_type": "markdown",
   "id": "259cf531",
   "metadata": {},
   "source": [
    "# RANDOM FOREST REGRESSION"
   ]
  },
  {
   "cell_type": "code",
   "execution_count": null,
   "id": "4f75d853",
   "metadata": {},
   "outputs": [],
   "source": [
    "from sklearn.ensemble import RandomForestRegressor"
   ]
  },
  {
   "cell_type": "code",
   "execution_count": null,
   "id": "02cf87cc",
   "metadata": {},
   "outputs": [],
   "source": [
    "Random=RandomForestRegressor()"
   ]
  },
  {
   "cell_type": "code",
   "execution_count": null,
   "id": "213aba2c",
   "metadata": {},
   "outputs": [],
   "source": [
    "RFR=Random.fit(x,y)\n",
    "RFR"
   ]
  },
  {
   "cell_type": "code",
   "execution_count": null,
   "id": "21ca13dd",
   "metadata": {},
   "outputs": [],
   "source": [
    "Random.predict(x_test_shuffle)"
   ]
  },
  {
   "cell_type": "code",
   "execution_count": null,
   "id": "035f0fa2",
   "metadata": {},
   "outputs": [],
   "source": [
    "RAND_pri=Random.predict(x_test_shuffle)\n",
    "RAND_pri"
   ]
  },
  {
   "cell_type": "code",
   "execution_count": null,
   "id": "c470cb41",
   "metadata": {},
   "outputs": [],
   "source": [
    "Random_Forest_regression=Random.score(x_test_shuffle,y_test_shuffle)\n",
    "Random_Forest_regression"
   ]
  },
  {
   "cell_type": "code",
   "execution_count": null,
   "id": "a127ca8e",
   "metadata": {},
   "outputs": [],
   "source": [
    "sns.scatterplot(x_test_shuffle.index,y_test_shuffle)\n",
    "sns.scatterplot(x_test_shuffle.index,RAND_pri)"
   ]
  },
  {
   "cell_type": "code",
   "execution_count": null,
   "id": "77bafb23",
   "metadata": {},
   "outputs": [],
   "source": [
    "import pickle"
   ]
  },
  {
   "cell_type": "code",
   "execution_count": null,
   "id": "d498f75d",
   "metadata": {},
   "outputs": [],
   "source": [
    "import os as os"
   ]
  },
  {
   "cell_type": "code",
   "execution_count": null,
   "id": "ffc683c9",
   "metadata": {},
   "outputs": [],
   "source": [
    "os.chdir('C:\\\\Users\\\\Ashish_Parulekar\\\\PYTHON_FILES\\\\DIPLOYMENT\\\\PUNE_RENT_APP')"
   ]
  },
  {
   "cell_type": "code",
   "execution_count": null,
   "id": "3b2f0d0e",
   "metadata": {},
   "outputs": [],
   "source": [
    "#save=pickle.dumps('C:\\\\Users\\\\Ashish_Parulekar\\\\PYTHON_FILES\\\\Project_2_Pune_rent_Regression_Model\\\\DIP_PUNE_RENT.pkl')"
   ]
  },
  {
   "cell_type": "code",
   "execution_count": null,
   "id": "3da866c6",
   "metadata": {},
   "outputs": [],
   "source": [
    "pickle.dump(Random,open('Pune_Rent_App.pkl', 'wb'))"
   ]
  },
  {
   "cell_type": "code",
   "execution_count": null,
   "id": "e1c63ade",
   "metadata": {},
   "outputs": [],
   "source": []
  }
 ],
 "metadata": {
  "kernelspec": {
   "display_name": "Python 3 (ipykernel)",
   "language": "python",
   "name": "python3"
  },
  "language_info": {
   "codemirror_mode": {
    "name": "ipython",
    "version": 3
   },
   "file_extension": ".py",
   "mimetype": "text/x-python",
   "name": "python",
   "nbconvert_exporter": "python",
   "pygments_lexer": "ipython3",
   "version": "3.9.7"
  }
 },
 "nbformat": 4,
 "nbformat_minor": 5
}
